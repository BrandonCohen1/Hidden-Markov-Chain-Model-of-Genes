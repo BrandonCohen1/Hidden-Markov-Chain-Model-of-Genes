{
 "cells": [
  {
   "cell_type": "markdown",
   "id": "74c878b5-cf48-42cc-8db7-19371adc4276",
   "metadata": {
    "tags": []
   },
   "source": [
    "## Data Import"
   ]
  },
  {
   "cell_type": "code",
   "execution_count": 2,
   "id": "c9f9cd72-5a0f-4acf-841d-e20d1979ba96",
   "metadata": {
    "tags": []
   },
   "outputs": [],
   "source": [
    "from pathlib import Path\n",
    "import numpy as np\n",
    "import pandas as pd\n",
    "from hmmlearn import hmm\n",
    "import matplotlib.pyplot as plt\n",
    "import time\n",
    "from numpy.linalg import matrix_power\n",
    "from collections import Counter\n",
    "from scipy.stats import poisson\n",
    "from scipy.stats import linregress\n",
    "\n",
    "#https://archive.ics.uci.edu/ml/datasets/Molecular+Biology+%28Promoter+Gene+Sequences%29\n",
    "data = Path('p.datas')\n",
    "promoters = open(data, \"r\")\n",
    "d = promoters.readlines()"
   ]
  },
  {
   "cell_type": "code",
   "execution_count": 3,
   "id": "c7bb174a-9e06-4f02-b8dc-abde67d894c6",
   "metadata": {
    "tags": []
   },
   "outputs": [],
   "source": [
    "with open('p.data', 'r') as f:\n",
    "    # Read the file line by line\n",
    "    data1 = f.readlines()"
   ]
  },
  {
   "cell_type": "code",
   "execution_count": 4,
   "id": "49c54a84-c117-4c33-9861-6344467bbc3a",
   "metadata": {
    "tags": []
   },
   "outputs": [],
   "source": [
    "sequences = []\n",
    "# Iterate over the lines and split each line using a comma delimiter\n",
    "for line in data1:\n",
    "    # Remove any trailing newline characters\n",
    "    line = line.rstrip('\\n')\n",
    "    line = line.rstrip('\\t')\n",
    "\n",
    "    # Split the line into a list of values using a comma delimiter\n",
    "    values = line.split(',')\n",
    "    val = values[2].strip('\\t').upper()\n",
    "    sequences.append(val)"
   ]
  },
  {
   "cell_type": "markdown",
   "id": "b2ceb74a-e233-4dd4-84a0-1dc30f92f433",
   "metadata": {
    "tags": []
   },
   "source": [
    "# Markov Chains"
   ]
  },
  {
   "cell_type": "markdown",
   "id": "948e8350-c11f-4dd6-9f4a-ffbb4a51c27c",
   "metadata": {
    "tags": []
   },
   "source": [
    "## Analysis"
   ]
  },
  {
   "cell_type": "code",
   "execution_count": 5,
   "id": "ddc85020-6659-47af-981f-fce4c4646da0",
   "metadata": {
    "tags": []
   },
   "outputs": [],
   "source": [
    "nucleotides = ['A', 'G', 'C', 'T']\n",
    "total_permuts = []\n",
    "\n",
    "# Determines total permutations of nucleotides.\n",
    "# Ex. AAAA, AGCT, CGTA, TCGA, etc.\n",
    "def permut(nucleotides, curr_permut, length):\n",
    "    if length == 0:\n",
    "        total_permuts.append(curr_permut)\n",
    "    else:\n",
    "        for n in nucleotides:\n",
    "            permut(nucleotides, curr_permut + n, length - 1)\n",
    "            \n",
    "# Needed for computing probabilties\n",
    "permut(nucleotides, '', 4)"
   ]
  },
  {
   "cell_type": "code",
   "execution_count": 6,
   "id": "28b61369-6e38-4802-ba7b-2407a003799d",
   "metadata": {
    "tags": []
   },
   "outputs": [],
   "source": [
    "# This function will calculate the probabilities of the probabilty matrix\n",
    "def compute_probs(arr_seqs):\n",
    "    # Define a 4x4 matrix to store the transition counts\n",
    "    transition_counts = np.zeros((4, 4))\n",
    "\n",
    "    # Iterate over all permutations of nucleotides the dataset and count transitions\n",
    "    for a in total_permuts:\n",
    "        # Iterate over all sequecnes from the dataset\n",
    "        for seq in arr_seqs:\n",
    "            curr_nucleotide = seq[0]\n",
    "            next_nucleotide = seq[1]\n",
    "            for i in range(len(seq)-1):\n",
    "                # Count Transitions\n",
    "                if curr_nucleotide not in nucleotides:\n",
    "                    curr_nucleotide = seq[i]\n",
    "                    continue\n",
    "                if next_nucleotide not in nucleotides:\n",
    "                    curr_nucleotide = seq[i]\n",
    "                    next_nucleotide = seq[i+1]\n",
    "                    continue\n",
    "                curr_count = nucleotides.index(curr_nucleotide)\n",
    "                next_count = nucleotides.index(next_nucleotide)\n",
    "                transition_counts[curr_count][next_count] += 1\n",
    "                curr_nucleotide = seq[i+1]\n",
    "                if i < len(seq)-2:\n",
    "                    next_nucleotide = seq[i+2]\n",
    "                    \n",
    "    # Compute the transition probabilities from the counts\n",
    "    transition_probs = transition_counts / np.sum(transition_counts, axis=1, keepdims=True)\n",
    "    return transition_probs"
   ]
  },
  {
   "cell_type": "code",
   "execution_count": 7,
   "id": "687e891e-5507-481f-ad5d-ad915466beb0",
   "metadata": {
    "tags": []
   },
   "outputs": [
    {
     "name": "stdout",
     "output_type": "stream",
     "text": [
      "Transition probabilities:\n"
     ]
    },
    {
     "data": {
      "text/html": [
       "<div>\n",
       "<style scoped>\n",
       "    .dataframe tbody tr th:only-of-type {\n",
       "        vertical-align: middle;\n",
       "    }\n",
       "\n",
       "    .dataframe tbody tr th {\n",
       "        vertical-align: top;\n",
       "    }\n",
       "\n",
       "    .dataframe thead th {\n",
       "        text-align: right;\n",
       "    }\n",
       "</style>\n",
       "<table border=\"1\" class=\"dataframe\">\n",
       "  <thead>\n",
       "    <tr style=\"text-align: right;\">\n",
       "      <th></th>\n",
       "      <th></th>\n",
       "      <th>A</th>\n",
       "      <th>G</th>\n",
       "      <th>C</th>\n",
       "      <th>T</th>\n",
       "    </tr>\n",
       "  </thead>\n",
       "  <tbody>\n",
       "    <tr>\n",
       "      <th>0</th>\n",
       "      <td>A</td>\n",
       "      <td>0.281008</td>\n",
       "      <td>0.204134</td>\n",
       "      <td>0.243540</td>\n",
       "      <td>0.271318</td>\n",
       "    </tr>\n",
       "    <tr>\n",
       "      <th>1</th>\n",
       "      <td>G</td>\n",
       "      <td>0.282414</td>\n",
       "      <td>0.186289</td>\n",
       "      <td>0.270492</td>\n",
       "      <td>0.260805</td>\n",
       "    </tr>\n",
       "    <tr>\n",
       "      <th>2</th>\n",
       "      <td>C</td>\n",
       "      <td>0.252193</td>\n",
       "      <td>0.260234</td>\n",
       "      <td>0.194444</td>\n",
       "      <td>0.293129</td>\n",
       "    </tr>\n",
       "    <tr>\n",
       "      <th>3</th>\n",
       "      <td>T</td>\n",
       "      <td>0.232420</td>\n",
       "      <td>0.258045</td>\n",
       "      <td>0.209774</td>\n",
       "      <td>0.299762</td>\n",
       "    </tr>\n",
       "  </tbody>\n",
       "</table>\n",
       "</div>"
      ],
      "text/plain": [
       "             A         G         C         T\n",
       "0  A  0.281008  0.204134  0.243540  0.271318\n",
       "1  G  0.282414  0.186289  0.270492  0.260805\n",
       "2  C  0.252193  0.260234  0.194444  0.293129\n",
       "3  T  0.232420  0.258045  0.209774  0.299762"
      ]
     },
     "metadata": {},
     "output_type": "display_data"
    }
   ],
   "source": [
    "# Print the transition probabilities\n",
    "print(\"Transition probabilities:\")\n",
    "all_seqs_probs = compute_probs(sequences)\n",
    "def transpose_probs_to_df(transition_probs):\n",
    "    transpose_probs = transition_probs.transpose()\n",
    "    d = {\"\" : nucleotides, \"A\" : list(transpose_probs[0]), \"G\" : list(transpose_probs[1]), \n",
    "         \"C\" : list(transpose_probs[2]), \"T\" : list(transpose_probs[3])}\n",
    "    df = pd.DataFrame(d)\n",
    "    return df\n",
    "df_all_seqs = transpose_probs_to_df(all_seqs_probs)\n",
    "display(df_all_seqs)"
   ]
  },
  {
   "cell_type": "code",
   "execution_count": 8,
   "id": "ecec67f5-e681-4dcb-a3fb-b2ce3b076bf0",
   "metadata": {
    "tags": []
   },
   "outputs": [
    {
     "name": "stdout",
     "output_type": "stream",
     "text": [
      "Transition probabilities:\n"
     ]
    },
    {
     "data": {
      "text/html": [
       "<div>\n",
       "<style scoped>\n",
       "    .dataframe tbody tr th:only-of-type {\n",
       "        vertical-align: middle;\n",
       "    }\n",
       "\n",
       "    .dataframe tbody tr th {\n",
       "        vertical-align: top;\n",
       "    }\n",
       "\n",
       "    .dataframe thead th {\n",
       "        text-align: right;\n",
       "    }\n",
       "</style>\n",
       "<table border=\"1\" class=\"dataframe\">\n",
       "  <thead>\n",
       "    <tr style=\"text-align: right;\">\n",
       "      <th></th>\n",
       "      <th></th>\n",
       "      <th>A</th>\n",
       "      <th>G</th>\n",
       "      <th>C</th>\n",
       "      <th>T</th>\n",
       "    </tr>\n",
       "  </thead>\n",
       "  <tbody>\n",
       "    <tr>\n",
       "      <th>0</th>\n",
       "      <td>A</td>\n",
       "      <td>0.281008</td>\n",
       "      <td>0.204134</td>\n",
       "      <td>0.243540</td>\n",
       "      <td>0.271318</td>\n",
       "    </tr>\n",
       "    <tr>\n",
       "      <th>1</th>\n",
       "      <td>G</td>\n",
       "      <td>0.282414</td>\n",
       "      <td>0.186289</td>\n",
       "      <td>0.270492</td>\n",
       "      <td>0.260805</td>\n",
       "    </tr>\n",
       "    <tr>\n",
       "      <th>2</th>\n",
       "      <td>C</td>\n",
       "      <td>0.252193</td>\n",
       "      <td>0.260234</td>\n",
       "      <td>0.194444</td>\n",
       "      <td>0.293129</td>\n",
       "    </tr>\n",
       "    <tr>\n",
       "      <th>3</th>\n",
       "      <td>T</td>\n",
       "      <td>0.232420</td>\n",
       "      <td>0.258045</td>\n",
       "      <td>0.209774</td>\n",
       "      <td>0.299762</td>\n",
       "    </tr>\n",
       "  </tbody>\n",
       "</table>\n",
       "</div>"
      ],
      "text/plain": [
       "             A         G         C         T\n",
       "0  A  0.281008  0.204134  0.243540  0.271318\n",
       "1  G  0.282414  0.186289  0.270492  0.260805\n",
       "2  C  0.252193  0.260234  0.194444  0.293129\n",
       "3  T  0.232420  0.258045  0.209774  0.299762"
      ]
     },
     "metadata": {},
     "output_type": "display_data"
    }
   ],
   "source": [
    "# Print the transition probabilities\n",
    "print(\"Transition probabilities:\")\n",
    "all_seqs_probs = compute_probs(sequences)\n",
    "def transpose_probs_to_df(transition_probs):\n",
    "    transpose_probs = transition_probs.transpose()\n",
    "    d = {\"\" : nucleotides, \"A\" : list(transpose_probs[0]), \"G\" : list(transpose_probs[1]), \n",
    "         \"C\" : list(transpose_probs[2]), \"T\" : list(transpose_probs[3])}\n",
    "    df = pd.DataFrame(d)\n",
    "    return df\n",
    "df_all_seqs = transpose_probs_to_df(all_seqs_probs)\n",
    "display(df_all_seqs)"
   ]
  },
  {
   "cell_type": "code",
   "execution_count": 9,
   "id": "b8b75efc-6ea7-4f6f-8269-6412cee5928e",
   "metadata": {
    "tags": []
   },
   "outputs": [
    {
     "data": {
      "text/html": [
       "<div>\n",
       "<style scoped>\n",
       "    .dataframe tbody tr th:only-of-type {\n",
       "        vertical-align: middle;\n",
       "    }\n",
       "\n",
       "    .dataframe tbody tr th {\n",
       "        vertical-align: top;\n",
       "    }\n",
       "\n",
       "    .dataframe thead th {\n",
       "        text-align: right;\n",
       "    }\n",
       "</style>\n",
       "<table border=\"1\" class=\"dataframe\">\n",
       "  <thead>\n",
       "    <tr style=\"text-align: right;\">\n",
       "      <th></th>\n",
       "      <th></th>\n",
       "      <th>A</th>\n",
       "      <th>G</th>\n",
       "      <th>C</th>\n",
       "      <th>T</th>\n",
       "    </tr>\n",
       "  </thead>\n",
       "  <tbody>\n",
       "    <tr>\n",
       "      <th>0</th>\n",
       "      <td>A</td>\n",
       "      <td>0.337772</td>\n",
       "      <td>0.158596</td>\n",
       "      <td>0.215496</td>\n",
       "      <td>0.288136</td>\n",
       "    </tr>\n",
       "    <tr>\n",
       "      <th>1</th>\n",
       "      <td>G</td>\n",
       "      <td>0.235195</td>\n",
       "      <td>0.174281</td>\n",
       "      <td>0.292724</td>\n",
       "      <td>0.297800</td>\n",
       "    </tr>\n",
       "    <tr>\n",
       "      <th>2</th>\n",
       "      <td>C</td>\n",
       "      <td>0.251135</td>\n",
       "      <td>0.249622</td>\n",
       "      <td>0.225416</td>\n",
       "      <td>0.273828</td>\n",
       "    </tr>\n",
       "    <tr>\n",
       "      <th>3</th>\n",
       "      <td>T</td>\n",
       "      <td>0.268539</td>\n",
       "      <td>0.221348</td>\n",
       "      <td>0.176404</td>\n",
       "      <td>0.333708</td>\n",
       "    </tr>\n",
       "  </tbody>\n",
       "</table>\n",
       "</div>"
      ],
      "text/plain": [
       "             A         G         C         T\n",
       "0  A  0.337772  0.158596  0.215496  0.288136\n",
       "1  G  0.235195  0.174281  0.292724  0.297800\n",
       "2  C  0.251135  0.249622  0.225416  0.273828\n",
       "3  T  0.268539  0.221348  0.176404  0.333708"
      ]
     },
     "metadata": {},
     "output_type": "display_data"
    }
   ],
   "source": [
    "# Positive Model means it is a promoter sequence\n",
    "promoters = sequences[:53]\n",
    "promoter_probs = compute_probs(promoters)\n",
    "display_promoter_probs = transpose_probs_to_df(promoter_probs)\n",
    "display(display_promoter_probs)"
   ]
  },
  {
   "cell_type": "code",
   "execution_count": 10,
   "id": "af1a526a-ad37-4e52-b8f1-5660e5868ea3",
   "metadata": {
    "tags": []
   },
   "outputs": [
    {
     "data": {
      "text/html": [
       "<div>\n",
       "<style scoped>\n",
       "    .dataframe tbody tr th:only-of-type {\n",
       "        vertical-align: middle;\n",
       "    }\n",
       "\n",
       "    .dataframe tbody tr th {\n",
       "        vertical-align: top;\n",
       "    }\n",
       "\n",
       "    .dataframe thead th {\n",
       "        text-align: right;\n",
       "    }\n",
       "</style>\n",
       "<table border=\"1\" class=\"dataframe\">\n",
       "  <thead>\n",
       "    <tr style=\"text-align: right;\">\n",
       "      <th></th>\n",
       "      <th></th>\n",
       "      <th>A</th>\n",
       "      <th>G</th>\n",
       "      <th>C</th>\n",
       "      <th>T</th>\n",
       "    </tr>\n",
       "  </thead>\n",
       "  <tbody>\n",
       "    <tr>\n",
       "      <th>0</th>\n",
       "      <td>A</td>\n",
       "      <td>0.216066</td>\n",
       "      <td>0.256233</td>\n",
       "      <td>0.275623</td>\n",
       "      <td>0.252078</td>\n",
       "    </tr>\n",
       "    <tr>\n",
       "      <th>1</th>\n",
       "      <td>G</td>\n",
       "      <td>0.319574</td>\n",
       "      <td>0.195739</td>\n",
       "      <td>0.252996</td>\n",
       "      <td>0.231691</td>\n",
       "    </tr>\n",
       "    <tr>\n",
       "      <th>2</th>\n",
       "      <td>C</td>\n",
       "      <td>0.253182</td>\n",
       "      <td>0.270156</td>\n",
       "      <td>0.165488</td>\n",
       "      <td>0.311174</td>\n",
       "    </tr>\n",
       "    <tr>\n",
       "      <th>3</th>\n",
       "      <td>T</td>\n",
       "      <td>0.191624</td>\n",
       "      <td>0.299492</td>\n",
       "      <td>0.247462</td>\n",
       "      <td>0.261421</td>\n",
       "    </tr>\n",
       "  </tbody>\n",
       "</table>\n",
       "</div>"
      ],
      "text/plain": [
       "             A         G         C         T\n",
       "0  A  0.216066  0.256233  0.275623  0.252078\n",
       "1  G  0.319574  0.195739  0.252996  0.231691\n",
       "2  C  0.253182  0.270156  0.165488  0.311174\n",
       "3  T  0.191624  0.299492  0.247462  0.261421"
      ]
     },
     "metadata": {},
     "output_type": "display_data"
    }
   ],
   "source": [
    "# Negative Model means it is not a promoter sequence\n",
    "neg_promoters = sequences[53:]\n",
    "neg_promoter_probs = compute_probs(neg_promoters)\n",
    "display_neg_promoter_probs = transpose_probs_to_df(neg_promoter_probs)\n",
    "display(display_neg_promoter_probs)"
   ]
  },
  {
   "cell_type": "markdown",
   "id": "626a884e-9260-4ba1-8c00-56c81f44074d",
   "metadata": {
    "tags": []
   },
   "source": [
    "#### Log-Odds Ratio with Respect to Model Building: Measure of How Well the Model Predicts the Data\n",
    "$S(x) = \\log \\left( \\frac{P(x|\\text{model}^+)}{P(x|\\text{model}^-)} \\right) = \\sum_{i=1}^{L} \\log \\left( \\frac{a^+_{(x_{i-1})(x_i)}}{a^-_{(x_{i-1})(x_i)}} \\right)$"
   ]
  },
  {
   "cell_type": "code",
   "execution_count": 11,
   "id": "d898db0a-0c2d-4e4c-9401-38002a06e9d3",
   "metadata": {
    "tags": []
   },
   "outputs": [
    {
     "name": "stdout",
     "output_type": "stream",
     "text": [
      "The log-odds ratio of the model is -0.145 which implies both models predict a normal genome.\n"
     ]
    }
   ],
   "source": [
    "# Log-odds model to predict the if the model is deviates from the standard model\n",
    "S = 0\n",
    "index1 = 0\n",
    "index2 = 0\n",
    "\n",
    "for i in promoter_probs:\n",
    "    while index1 < 4:\n",
    "        for j in neg_promoter_probs:\n",
    "            while index2 < 4:\n",
    "                S += np.log( promoter_probs[index1][index2]/neg_promoter_probs[index1][index2] )\n",
    "                index2 += 1\n",
    "        index1 += 1\n",
    "print(\"The log-odds ratio of the model is\", round(S, 3), \"which implies both models predict a normal genome.\")"
   ]
  },
  {
   "cell_type": "markdown",
   "id": "6202160d-7b99-4752-ac4c-ded2dfde262e",
   "metadata": {
    "tags": []
   },
   "source": [
    "## Gambler's Ruin Problem in the Perspective of Gene Sequences\n",
    "#### Consider an equilibrium reaction between methylating proteins and RNA polmerase proteins such that RNA polymerase begins transcription on the promoter region of a DNA strand and methylating proteins stop transcription. Methylating proteins have one binding site, but if it binds to the promoter region, the rate of another protein methylating the promoter region is 1. RNA polymerase competes with the binding site of the promoter such that it has a 50% chance of knocking off a methylating protein and binding. Once there are 5 methylating proteins binded to the promoter region, no RNA polymerase can bind, but if there is only RNA polymerase binded to the promoter region, then no more methylating proteins will be able to bind. \n",
    "<br> 1. Describe this problem as a Markov chain using the methylating proteins. \n",
    "<br>2. What are the states? \n",
    "<br>3. Find the probability matrix."
   ]
  },
  {
   "cell_type": "markdown",
   "id": "9ac9b204-e9c8-4938-a640-e6081124fb3d",
   "metadata": {
    "tags": []
   },
   "source": [
    "#### Let $X_n$ be defined as a Markov Chain such that n represents the number of methylating proteins.\n",
    "#### $X_n$ = {1, 2, 3, 4, 5}\n",
    "#### The states are RNA polymerase binding (-1) or the methylating protein binding (+1)."
   ]
  },
  {
   "cell_type": "code",
   "execution_count": 12,
   "id": "829a2988-19ec-462c-84d3-89111a826726",
   "metadata": {
    "tags": []
   },
   "outputs": [
    {
     "data": {
      "text/plain": [
       "array([[1. , 0. , 0. , 0. , 0. , 0. ],\n",
       "       [0.5, 0. , 0.5, 0. , 0. , 0. ],\n",
       "       [0. , 0.5, 0. , 0.5, 0. , 0. ],\n",
       "       [0. , 0. , 0.5, 0. , 0.5, 0. ],\n",
       "       [0. , 0. , 0. , 0.5, 0. , 0.5],\n",
       "       [0. , 0. , 0. , 0. , 0. , 1. ]])"
      ]
     },
     "execution_count": 12,
     "metadata": {},
     "output_type": "execute_result"
    }
   ],
   "source": [
    "p00 = 1\n",
    "p01 = p02 = p03 = p04 = p05 = 0\n",
    "p10 = p12 = 0.5\n",
    "p11 = p13 = p14 = p15 = 0\n",
    "p21 = p23 = 0.5\n",
    "p20 = p22 = p24 = p25 = 0\n",
    "p32 = p34 = 0.5\n",
    "p30 = p31 = p33 = p35 = 0\n",
    "p43 = p45 = 0.5\n",
    "p40 = p41 = p42 = p44 = 0\n",
    "p50 = p51 = p52 = p53 = p54 = 0\n",
    "p55 = 1\n",
    "P = np.array([[p00, p01, p02, p03, p04, p05],\n",
    "                [p10, p11, p12, p13, p14, p15],\n",
    "                [p20, p21, p22, p23, p24, p25],\n",
    "                [p30, p31, p32, p33, p34, p35], \n",
    "                [p40, p41, p42, p43, p44, p45], \n",
    "                [p50, p51, p52, p53, p54, p55]\n",
    "             ])\n",
    "P"
   ]
  },
  {
   "cell_type": "markdown",
   "id": "1ed74260-da7b-4d75-b956-6757dd428e4a",
   "metadata": {
    "tags": []
   },
   "source": [
    "## Using Chapman Kolmogrov Equation,\n",
    "### What is the probability that there are 4 methylating proteins consecutively attached to the promoter region after 10 events of competing methylating proteins and or RNA polymerases binding to the promoter region given the first protein to bind was a methylating protein?"
   ]
  },
  {
   "cell_type": "code",
   "execution_count": 13,
   "id": "786e7d4b-970c-4a40-b237-a5cc56714099",
   "metadata": {
    "tags": []
   },
   "outputs": [
    {
     "name": "stdout",
     "output_type": "stream",
     "text": [
      "[[1.         0.         0.         0.         0.         0.        ]\n",
      " [0.75195312 0.03320312 0.         0.05371094 0.         0.16113281]\n",
      " [0.53710938 0.         0.08691406 0.         0.05371094 0.32226562]\n",
      " [0.32226562 0.05371094 0.         0.08691406 0.         0.53710938]\n",
      " [0.16113281 0.         0.05371094 0.         0.03320312 0.75195312]\n",
      " [0.         0.         0.         0.         0.         1.        ]]\n"
     ]
    }
   ],
   "source": [
    "from numpy.linalg import matrix_power\n",
    "P_10_steps = matrix_power(P, 10)\n",
    "print(P_10_steps)"
   ]
  },
  {
   "cell_type": "code",
   "execution_count": 14,
   "id": "cf97a8bc-1e10-4b43-9fde-4fc8e439ff1e",
   "metadata": {
    "tags": []
   },
   "outputs": [
    {
     "name": "stdout",
     "output_type": "stream",
     "text": [
      "P¹⁰₁₄ = 0.0537109375\n"
     ]
    }
   ],
   "source": [
    "print(f'P¹⁰₁₄ =', P_10_steps[1][3])"
   ]
  },
  {
   "cell_type": "markdown",
   "id": "9d84ce95-4bde-4ffe-af42-46d8d90c980b",
   "metadata": {
    "tags": []
   },
   "source": [
    "## Using a Markov Chain {W$_n$, n$\\in$$\\mathbb{N}$} with state space made up of states not in A and an extra state A."
   ]
  },
  {
   "cell_type": "markdown",
   "id": "7f162dfc-283d-4556-96dc-db2e5071610b",
   "metadata": {},
   "source": [
    "#### Let N be the number of steps in a sequence until there is a GC pair. This is important to find in a DNA sequence as CpG islands have very high GC contents. If there is a presence of high GC contents near the promoter, then there is a CpG island which will promote methylation of the promoter region causing no transcription of the genes that are regulated by the promoter."
   ]
  },
  {
   "cell_type": "markdown",
   "id": "f15f0952-0c69-4ee2-a5cd-fb8e21e47ae1",
   "metadata": {},
   "source": [
    "There will be a repeat of GC pairs within 5 or less steps in the sequence."
   ]
  },
  {
   "cell_type": "markdown",
   "id": "90b9b8ba-a511-4078-b21a-5e430c3fc382",
   "metadata": {
    "tags": []
   },
   "source": [
    "P(N≤5) = P(W₅=C | W₀=G) = P$^5_{GC}$ "
   ]
  },
  {
   "cell_type": "code",
   "execution_count": 15,
   "id": "df3f010e-fd8a-4b82-ad5d-23626bcdf794",
   "metadata": {
    "tags": []
   },
   "outputs": [
    {
     "name": "stdout",
     "output_type": "stream",
     "text": [
      "[[0.26103354 0.22810559 0.22892887 0.281932  ]\n",
      " [0.26103362 0.2281053  0.2289292  0.28193189]\n",
      " [0.26103339 0.2281062  0.22892816 0.28193225]\n",
      " [0.26103344 0.22810599 0.2289284  0.28193217]]\n"
     ]
    }
   ],
   "source": [
    "seqs_5_steps = matrix_power(all_seqs_probs, 5)\n",
    "print(seqs_5_steps)"
   ]
  },
  {
   "cell_type": "code",
   "execution_count": 16,
   "id": "a01a108a-2147-4623-86da-89206a095d65",
   "metadata": {
    "tags": []
   },
   "outputs": [
    {
     "name": "stdout",
     "output_type": "stream",
     "text": [
      "There is a 22.89 % chance that there will be a GC pair in less than 5 nucleotides.\n"
     ]
    }
   ],
   "source": [
    "print(\"There is a\", round(seqs_5_steps[1][2] * 100, 2), \"% chance that there will be a GC pair in less than 5 nucleotides.\")"
   ]
  },
  {
   "cell_type": "code",
   "execution_count": 17,
   "id": "27412640-5539-405a-80c9-39825a3ab1a8",
   "metadata": {},
   "outputs": [
    {
     "data": {
      "text/plain": [
       "array([[0.28100775, 0.20413437, 0.24354005, 0.27131783],\n",
       "       [0.28241431, 0.18628912, 0.2704918 , 0.26080477],\n",
       "       [0.25219298, 0.26023392, 0.19444444, 0.29312865],\n",
       "       [0.23241955, 0.25804529, 0.20977354, 0.29976162]])"
      ]
     },
     "execution_count": 17,
     "metadata": {},
     "output_type": "execute_result"
    }
   ],
   "source": [
    "all_seqs_probs"
   ]
  },
  {
   "cell_type": "markdown",
   "id": "728f79df-1e74-46b9-83ce-dc578dc8b12f",
   "metadata": {},
   "source": [
    "## Long Run Probabilities"
   ]
  },
  {
   "cell_type": "code",
   "execution_count": null,
   "id": "ff5c2e88-d1f3-4648-b984-6e8e6e91ecbf",
   "metadata": {
    "tags": []
   },
   "outputs": [],
   "source": [
    "start = time.time()\n",
    "sum1 = 0\n",
    "sum2 = 0\n",
    "sum3 = 0\n",
    "sum4 = 0\n",
    "sums1_arr = []\n",
    "sums2_arr = []\n",
    "sums3_arr = []\n",
    "sums4_arr = []\n",
    "x = []\n",
    "slope_1 = []\n",
    "slope_2 = []\n",
    "slope_3 = []\n",
    "slope_4 = []\n",
    "\n",
    "for i in range(1, 2):\n",
    "    a = matrix_power(all_seqs_probs, i)[0][0]\n",
    "    b = matrix_power(all_seqs_probs, i)[1][1]\n",
    "    c = matrix_power(all_seqs_probs, i)[2][2]\n",
    "    d = matrix_power(all_seqs_probs, i)[3][3]\n",
    "    sum1 += a\n",
    "    sum2 += b\n",
    "    sum3 += c\n",
    "    sum4 += d\n",
    "    sums1_arr.append(sum1)\n",
    "    sums2_arr.append(sum2)\n",
    "    sums3_arr.append(sum3)\n",
    "    sums4_arr.append(sum4)\n",
    "    x.append(i)\n",
    "    slope_1.append(linregress(x, sums1_arr)[0])\n",
    "    slope_2.append(linregress(x, sums2_arr)[0])\n",
    "    slope_3.append(linregress(x, sums3_arr)[0])\n",
    "    slope_4.append(linregress(x, sums4_arr)[0])\n",
    "\n",
    "end = time.time()\n",
    "print(\"The time of execution of above program is :\",\n",
    "      (end-start) * 10**3, \"ms\")"
   ]
  },
  {
   "cell_type": "code",
   "execution_count": null,
   "id": "118f1711-a7d0-4b49-9c8c-c0bfb7eaef67",
   "metadata": {},
   "outputs": [],
   "source": [
    "# Create a figure with two subplots (1 row, 2 columns)\n",
    "fig, (ax1, ax2, ax3, ax4) = plt.subplots(1, 2, figsize=(12, 6))\n",
    "\n",
    "# Plot on the first subplot\n",
    "ax1.plot(x, sums1_arr)\n",
    "ax1.set_title(\"Figure 1. Long Run $\\sum P_{ii}^n$ to $n=1,000,000$\")\n",
    "ax1.set_xlabel(\"n\")\n",
    "ax1.set_ylabel(\"$\\sum P_{ii}^n$\")\n",
    "\n",
    "# Plot on the second subplot\n",
    "ax2.plot(x, sums2_arr)\n",
    "ax2.set_title(\"Figure 2. Long Run $\\sum P_{ii}^n$ to $n=1,000,000$\")\n",
    "ax2.set_xlabel(\"n\")\n",
    "ax2.set_ylabel(\"$\\sum P_{ii}^n$\")\n",
    "\n",
    "ax3.plot(x, sums2_arr)\n",
    "ax3.set_title(\"Figure 3. Long Run $\\sum P_{ii}^n$ to $n=1,000,000$\")\n",
    "ax3.set_xlabel(\"n\")\n",
    "ax3.set_ylabel(\"$\\sum P_{ii}^n$\")\n",
    "\n",
    "ax4.plot(x, sums2_arr)\n",
    "ax4.set_title(\"Figure 4. Long Run $\\sum P_{ii}^n$ to $n=1,000,000$\")\n",
    "ax4.set_xlabel(\"n\")\n",
    "ax4.set_ylabel(\"$\\sum P_{ii}^n$\")\n",
    "\n",
    "# Adjust layout to prevent overlapping titles\n",
    "plt.tight_layout()\n",
    "\n",
    "# Show the plot\n",
    "plt.show()"
   ]
  },
  {
   "cell_type": "markdown",
   "id": "a2dc82e8-6f28-4f62-ac36-dd903ec7d954",
   "metadata": {},
   "source": [
    "#### The slope for n=100,000 is [0.261, 0.228, 0.229, 0.282] which sums to 1.\n",
    "#### The slope for n=1,000,000 is [0.261, 0.228, 0.229, 0.282] which sums to 1."
   ]
  },
  {
   "cell_type": "markdown",
   "id": "ca8664e1-73cd-42b4-8d63-1ba62383a948",
   "metadata": {},
   "source": [
    "Below I have listed the long run proportions assuming the matrix is irreducible, aperiodic, ergodic, and stationary based on https://www2.ib.unicamp.br/profs/sfreis/SistematicaMolecular/Aula06SelecaoModelosSubstituicaoI/Leituras/The%20Phylogenetic%20Handbook%20-%20Chapter%204.pdf. The left column is calculated proportions from the slopes above and the right column is the calculated proportion using a calculator. \n",
    "\n",
    "Note: Chargaff's Rule states the %A≈%T and %C≈%T. The proportion of C and G is roughly equal which corresponds with Chargaff's Rule, but the proportion of A with respect to T is skewed to the %T.\n",
    "<br>$\\pi_A$: 0.261 |     0.261041\n",
    "<br>$\\pi_G$: 0.228 |     0.228112\n",
    "<br>$\\pi_C$: 0.229 |     0.228935\n",
    "<br>$\\pi_T$: 0.282 |     0.28194"
   ]
  },
  {
   "cell_type": "markdown",
   "id": "1b67792b-6d3c-44b1-b7c1-a6506813d580",
   "metadata": {},
   "source": [
    "This is an approximation of the recurrent (ΣPᵢᵢⁿ = ∞) and transient (ΣPᵢᵢⁿ < ∞) definitions, and we find based on our assumptions that the ΣPᵢᵢⁿ is transient assuming our assumptions are true."
   ]
  },
  {
   "cell_type": "markdown",
   "id": "e888f9d5-18a3-4903-b448-affc6097f14d",
   "metadata": {
    "tags": []
   },
   "source": [
    "# Poisson Distribution"
   ]
  },
  {
   "cell_type": "code",
   "execution_count": 18,
   "id": "ea99b81a-0448-4b67-8738-e47e8fa29271",
   "metadata": {
    "tags": []
   },
   "outputs": [],
   "source": [
    "# Used if you want to find poisson distribution based on the data\n",
    "def poisson_dist(mu, k):\n",
    "    return poisson.pmf(k, mu)\n",
    "\n",
    "counts = []\n",
    "for sequence in sequences:\n",
    "    counts.append(Counter(sequence))"
   ]
  },
  {
   "cell_type": "markdown",
   "id": "ca0edbca-c657-4a3a-9fc5-5eb1cc98c1c7",
   "metadata": {},
   "source": [
    "We can use the maximum likelihood estimation (MLE) of the Poisson Distribution to model a Poisson Process. A MLE is a method that is used to find estimated parameters a distribution. Below is the MLE of the Poisson Distribution:\n",
    "\n",
    "Assume $X_1, X_2, ..., X_n$ are independent and identically distributed (i.i.d) random variables from a Poisson distribution with parameter $\\lambda$. \n",
    "\n",
    "The probability mass function for a Poisson distribution is given by:\n",
    "\n",
    "$$P(X = k) = \\frac{e^{-\\lambda}\\lambda^k}{k!}$$\n",
    "\n",
    "The likelihood function for $n$ independent observations is:\n",
    "\n",
    "\\begin{align*}\n",
    "L(\\lambda) &= P(X_1 = x_1, X_2 = x_2, ..., X_n = x_n | \\lambda)\\\\\n",
    "&= \\prod_{i=1}^{n} P(X_i = x_i | \\lambda)\\\\\n",
    "&= \\prod_{i=1}^{n} \\frac{e^{-\\lambda}\\lambda^{x_i}}{x_i!}\\\\\n",
    "&= \\frac{e^{-n\\lambda}\\lambda^{\\sum_{i=1}^{n}x_i}}{\\prod_{i=1}^{n}x_i!}\n",
    "\\end{align*}\n",
    "\n",
    "Then the natural logarithm of the likelihood function is taken:\n",
    "\n",
    "\\begin{align*}\n",
    "\\ln L(\\lambda) &= \\ln \\frac{e^{-n\\lambda}\\lambda^{\\sum_{i=1}^{n}x_i}}{\\prod_{i=1}^{n}x_i!}\\\\\n",
    "&= -n\\lambda + \\sum_{i=1}^{n}x_i \\ln \\lambda - \\sum_{i=1}^{n}\\ln(x_i!)\n",
    "\\end{align*}\n",
    "\n",
    "Differentiate with respect to $\\lambda$:\n",
    "\n",
    "\\begin{align*}\n",
    "\\frac{\\partial}{\\partial \\lambda} \\ln L(\\lambda) &= -n + \\frac{\\sum_{i=1}^{n}x_i}{\\lambda}\n",
    "\\end{align*}\n",
    "\n",
    "Set the derivative to zero to find the maximum likelihood estimate:\n",
    "\n",
    "\\begin{align*}\n",
    "\\frac{\\partial}{\\partial \\lambda} \\ln L(\\lambda) &= 0\\\\\n",
    "\\Rightarrow \\quad \\hat{\\lambda} &= \\frac{1}{n} \\sum_{i=1}^{n} x_i\n",
    "\\end{align*}\n",
    "\n",
    "The MLE of Poisson Distribution parameter $\\lambda$ has shown us that the sample mean is a good estimator of $\\lambda$."
   ]
  },
  {
   "cell_type": "markdown",
   "id": "28022dd5-cd6e-46d5-a0b1-82d6885209cd",
   "metadata": {
    "tags": []
   },
   "source": [
    "## Let $\\{N(t), t \\geq 0\\}$ be a Poisson Process such that N(t) is the number of palindromes and let t represent the number of sequences. \n",
    "The estimator $\\hat{\\lambda}$ was calculated by finding the number of palindromes per sequence and then adding them up and dividing by the number of sequences used.\n"
   ]
  },
  {
   "cell_type": "markdown",
   "id": "695306fe-b451-4da6-b5aa-89207b346166",
   "metadata": {
    "tags": []
   },
   "source": [
    "### Why are palindromes important in DNA sequences?\n",
    "The presence of palindromes indicates that the sequence is a restriction site. A restriction site consists of a short DNA sequence which is recognized by restriction enzymes to cleave the phosphodiester bonds of DNA. I chose to describe a palindromic DNA sequence to be 5 base pairs long."
   ]
  },
  {
   "cell_type": "code",
   "execution_count": 19,
   "id": "95996323-7c4e-45be-8c66-5433a03feca1",
   "metadata": {
    "tags": []
   },
   "outputs": [
    {
     "name": "stdout",
     "output_type": "stream",
     "text": [
      "There are 3 5-base pair palindromes in the 6th sequences and they occur at indices [8, 16, 34]\n",
      "AGGGGCAAGGAGGATGGAAAGAGGTTGCCGTATAAAGAAACTAGAGTCCGTTTAGGT\n"
     ]
    }
   ],
   "source": [
    "# Define a function to reverse a string\n",
    "def reverse_string(s):\n",
    "    return s[::-1]\n",
    "\n",
    "# Define the window size\n",
    "window_size = 5\n",
    "\n",
    "# Only looks at a single sequence\n",
    "def index_palindrome(seq):\n",
    "    temp = []\n",
    "    # Iterate over the sequence and shift the window one base at a time\n",
    "    for i in range(len(seq) - window_size + 1):\n",
    "        # Look at the 5-base pair sequence\n",
    "        current_sequence = seq[i:i+window_size]\n",
    "        # If the sequence is a palindrome, print the index\n",
    "        if current_sequence == reverse_string(current_sequence):\n",
    "            # If the sequence is a palindrome, print its position in the DNA sequence\n",
    "            temp.append(i) \n",
    "    return temp\n",
    "\n",
    "index_6th_seq = index_palindrome(sequences[5])\n",
    "print('There are', len(index_6th_seq), '5-base pair palindromes in the 6th sequences and they occur at indices', index_6th_seq)\n",
    "print(sequences[5])"
   ]
  },
  {
   "cell_type": "code",
   "execution_count": 20,
   "id": "5b0c38a8-7d3e-45bd-bf5a-7bd7a24b6529",
   "metadata": {
    "tags": []
   },
   "outputs": [],
   "source": [
    "# palindrome_count will count the number of palindromes present in the sequence\n",
    "palindrome_count = 0\n",
    "arr_palindromes = []\n",
    "\n",
    "for seq in sequences:\n",
    "    # Iterate over the sequence and shift the window one base at a time\n",
    "    for i in range(len(seq) - window_size + 1):\n",
    "        # Look at the 5-base pair sequence\n",
    "        current_sequence = seq[i:i+window_size]\n",
    "        if current_sequence == reverse_string(current_sequence):\n",
    "            # Increase by 1 if the sequence is a palindrome\n",
    "            palindrome_count += 1\n",
    "    arr_palindromes.append(palindrome_count)\n",
    "    palindrome_count = 0"
   ]
  },
  {
   "cell_type": "code",
   "execution_count": 21,
   "id": "4107ab6e-9dd4-4955-b654-b8b65d656804",
   "metadata": {
    "tags": []
   },
   "outputs": [
    {
     "data": {
      "image/png": "[encoded data removed]",
      "text/plain": [
       "<Figure size 640x480 with 1 Axes>"
      ]
     },
     "metadata": {},
     "output_type": "display_data"
    }
   ],
   "source": [
    "mean_pal = np.mean(arr_palindromes)\n",
    "\n",
    "# Get the unique values and their counts\n",
    "values, counts = np.unique(arr_palindromes, return_counts=True)\n",
    "\n",
    "# Plot the frequency of numbers\n",
    "plt.bar(values, counts)\n",
    "plt.xlabel('Number of Palindromes')\n",
    "plt.ylabel('Frequency')\n",
    "plt.title('Frequency of Palindromes')\n",
    "plt.axvline(x=mean_pal, color='red')\n",
    "\n",
    "plt.show()"
   ]
  },
  {
   "cell_type": "markdown",
   "id": "8418b91b-b990-4b82-95f3-c9b0cfff54e7",
   "metadata": {},
   "source": [
    "The figure above has a very close Gaussian distribution when observing the frequency of palindromes."
   ]
  },
  {
   "cell_type": "markdown",
   "id": "e33f97fd-9ce2-4cba-a516-6d0fb11c8522",
   "metadata": {},
   "source": [
    "#### What is the probability that there are 10 palindromes detected within the first 10 DNA sequences? <br>What about the probability of 3 palindromes within the first 10 DNA sequences?"
   ]
  },
  {
   "cell_type": "code",
   "execution_count": 22,
   "id": "45688e78-5690-450a-8c3c-26d857115b3d",
   "metadata": {
    "tags": []
   },
   "outputs": [
    {
     "name": "stdout",
     "output_type": "stream",
     "text": [
      "P(N(10) = 10) = 1.222221993695921e-06\n",
      "P(N(10) = 3) = 1.5039223762689678e-11\n"
     ]
    }
   ],
   "source": [
    "import math\n",
    "P_10_palindromes = ( np.exp(-mean_pal*10) * (mean_pal*10)**10 ) / math.factorial(10)\n",
    "print('P(N(10) = 10) =', P_10_palindromes)\n",
    "P_3_palindromes = ( np.exp(-mean_pal*10) * (mean_pal*10)**3 ) / math.factorial(3)\n",
    "print('P(N(10) = 3) =', P_3_palindromes)"
   ]
  },
  {
   "cell_type": "markdown",
   "id": "0103c500-ec2f-4d31-8d52-8afa0a38c551",
   "metadata": {},
   "source": [
    "Using the assumption of Compound Poisson Distribution:<br>\n",
    "$\\lambda = w \\theta^L$\n",
    "<br>w is the window length.\n",
    "<br>$\\theta = 2 \\cdot (p_A \\cdot p_T + p_C \\cdot p_G)$\n",
    "<br>L is minimal palindrome length"
   ]
  },
  {
   "cell_type": "code",
   "execution_count": 23,
   "id": "98d477a7-881b-4669-b4ad-83b970949499",
   "metadata": {
    "tags": []
   },
   "outputs": [
    {
     "name": "stdout",
     "output_type": "stream",
     "text": [
      "Using the Compound Poisson Distribution, lambda is calculated to be 0.246\n"
     ]
    }
   ],
   "source": [
    "steady_state_seqs = [0.261, 0.228, 0.229, 0.282]\n",
    "theta = 2* ( steady_state_seqs[0]*steady_state_seqs[1] + steady_state_seqs[2]*steady_state_seqs[3] )\n",
    "lamb = 4*theta**2\n",
    "print('Using the Compound Poisson Distribution, lambda is calculated to be', round(lamb, 3))\n",
    "\n",
    "# http://www.math.utep.edu/faculty/mleung/presentation/Leung-JMM100115Slides.pdf"
   ]
  },
  {
   "cell_type": "markdown",
   "id": "a029c47b-ae4c-4264-a8db-bd37a16bbdee",
   "metadata": {},
   "source": [
    "The Compound Poisson Distribution was used to compare the calculated lambda from the Compound Poisson Distribution to the calculated lambda from the histogram. It is clearly shown that there is a very large difference between the two values which shows how important it is to make correct assumptions for your model. I used the simple mean of the counts of palindromes of each sequence which worked well for my model."
   ]
  },
  {
   "cell_type": "markdown",
   "id": "38fffa35-3adc-4f61-a5ae-73a8e215f7de",
   "metadata": {
    "tags": []
   },
   "source": [
    "# Brownian Motion"
   ]
  },
  {
   "cell_type": "markdown",
   "id": "d7a03a41-7884-4a58-b1e6-f3f3e72da1c0",
   "metadata": {},
   "source": [
    "### This Brownian motion simulator below simulates the time it takes to detect the first occurrence of a value using Arbitrage Theorem.\n",
    "The simulation can be applied to many applications where you want to find how long it takes for an even to occur."
   ]
  },
  {
   "cell_type": "markdown",
   "id": "cf5309fb-2bef-447e-bb2e-c18abc8e5607",
   "metadata": {},
   "source": [
    "Geometric Brownian Motion\n",
    "$S_t=S_0\\exp\\bigg((r-\\frac{1}{2}\\sigma^2)t+\\sigma\\sqrt{t}z\\bigg)$\n",
    "<br>$\\mu$ = drift rate\n",
    "<br>$\\sigma$ = volatility\n",
    "<br>$Z=${$Z_t:t∈[0,∞)$}  is standard Brownian motion and $\\mu \\in \\mathbb{R}$ and σ∈(0,∞)."
   ]
  },
  {
   "cell_type": "code",
   "execution_count": 24,
   "id": "4c59ab5d-911f-46cc-86cd-acd53c21574c",
   "metadata": {},
   "outputs": [
    {
     "name": "stdout",
     "output_type": "stream",
     "text": [
      "It took 7.44 time units to find the value 5.\n"
     ]
    }
   ],
   "source": [
    "import numpy as np\n",
    "from scipy.stats import norm\n",
    "\n",
    "\n",
    "def brownian_motion_hit_time(hit, mu=1, sigma=1, dt=0.01, t_max=100):\n",
    "    \"\"\"\n",
    "    This function models a Brownian motion process that returns the time unitl a value\n",
    "    is hit using the Arbitrage Theorem.\n",
    "    dt is the time steps.\n",
    "    hit is the value to find.\n",
    "    \"\"\"\n",
    "    \n",
    "    # Initialize the Brownian motion process\n",
    "    t = np.arange(0, t_max+dt, dt)\n",
    "    z = norm.rvs(size=len(t), scale=np.sqrt(dt))\n",
    "    cumsum = np.cumsum((mu-0.5*sigma**2)*dt + sigma*z)\n",
    "    \n",
    "    # Find the first time the process hits the value: hit\n",
    "    hit_indices = np.where(np.abs(cumsum - hit) <= np.sqrt(dt))[0]\n",
    "    if len(hit_indices) > 0:\n",
    "        hit_time = t[hit_indices[0]]\n",
    "    else:\n",
    "        hit_time = np.nan\n",
    "    \n",
    "    return hit_time\n",
    "\n",
    "time = brownian_motion_hit_time(5)\n",
    "print('It took', time, 'time units to find the value 5.')"
   ]
  }
 ],
 "metadata": {
  "kernelspec": {
   "display_name": "Python 3 (ipykernel)",
   "language": "python",
   "name": "python3"
  },
  "language_info": {
   "codemirror_mode": {
    "name": "ipython",
    "version": 3
   },
   "file_extension": ".py",
   "mimetype": "text/x-python",
   "name": "python",
   "nbconvert_exporter": "python",
   "pygments_lexer": "ipython3",
   "version": "3.10.13"
  }
 },
 "nbformat": 4,
 "nbformat_minor": 5
}
